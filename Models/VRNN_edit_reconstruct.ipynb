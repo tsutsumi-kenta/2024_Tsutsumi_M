{
 "cells": [
  {
   "cell_type": "markdown",
   "metadata": {
    "tags": []
   },
   "source": [
    "# モジュール"
   ]
  },
  {
   "cell_type": "code",
   "execution_count": 1,
   "metadata": {},
   "outputs": [],
   "source": [
    "import os\n",
    "import sys\n",
    "import warnings\n",
    "\n",
    "\n",
    "import numpy as np\n",
    "import matplotlib.pyplot as plt\n",
    "import matplotlib.animation as animation\n",
    "import pandas as pd\n",
    "# TF/Keras\n",
    "import tensorflow as tf\n",
    "from tensorflow import keras\n",
    "from keras import backend as K\n",
    "from keras.layers import Input, Dense\n",
    "from tensorflow.keras.callbacks import TensorBoard\n",
    "from sklearn.manifold import TSNE"
   ]
  },
  {
   "cell_type": "code",
   "execution_count": 2,
   "metadata": {},
   "outputs": [],
   "source": [
    "import japanize_matplotlib\n",
    "\n",
    "# フォントの設定\n",
    "plt.rcParams[\"font.family\"] = \"sans-serif\"\n",
    "plt.rcParams[\"font.sans-serif\"] = [\n",
    "    \"Hiragino Gothic Pro\",\n",
    "    \"Yu Gothic\",\n",
    "    \"Meirio\",\n",
    "    \"Takao\",\n",
    "    \"IPAexGothic\",\n",
    "    \"IPAPGothic\",\n",
    "    \"VL PGothic\",\n",
    "    \"Noto Sans CJK JP\",\n",
    "]\n",
    "plt.rcParams[\"mathtext.fontset\"] = \"stix\"\n",
    "plt.rcParams[\"font.size\"] = 17\n",
    "plt.rcParams[\"xtick.labelsize\"] = 12\n",
    "plt.rcParams[\"ytick.labelsize\"] = 12\n",
    "# 軸の設定\n",
    "plt.rcParams[\"xtick.direction\"] = \"in\"\n",
    "plt.rcParams[\"ytick.direction\"] = \"in\"\n",
    "plt.rcParams[\"axes.linewidth\"] = 2.0\n",
    "plt.rcParams['axes.grid'] = True\n",
    "plt.rcParams['grid.linestyle'] = '--'\n",
    "plt.rcParams[\"axes.axisbelow\"] = True\n",
    "plt.rcParams[\"grid.color\"] = \"black\"\n",
    "\n",
    "# 凡例の設定\n",
    "plt.rcParams[\"legend.frameon\"] = True\n",
    "plt.rcParams[\"legend.framealpha\"] = 0.0\n",
    "plt.rcParams[\"legend.handlelength\"] = 1.0\n",
    "plt.rcParams[\"legend.labelspacing\"] = 0.4\n",
    "plt.rcParams[\"legend.handletextpad\"] = 0.8\n",
    "plt.rcParams[\"legend.markerscale\"] = 1.0"
   ]
  },
  {
   "cell_type": "markdown",
   "metadata": {
    "tags": []
   },
   "source": [
    "# Data\n",
    "\n"
   ]
  },
  {
   "cell_type": "code",
   "execution_count": 3,
   "metadata": {},
   "outputs": [],
   "source": [
    "\n",
    "def make_timeseries_dataset(data, target, timesteps):\n",
    "    #タイムステップ分ずらす\n",
    "    N = len(target[timesteps:])\n",
    "    X = np.zeros((N, timesteps, 1), np.float32)\n",
    "    Y = np.zeros((N, 1), np.float32)\n",
    "    for i in range(N):\n",
    "        X[i] = data[i:i+timesteps][:,np.newaxis]\n",
    "        Y[i] = target[i+timesteps]\n",
    "    return X, Y\n",
    "\n",
    "def make_dataset_for_stateful(data_list, target_list, timesteps):\n",
    "    N = len(data_list)\n",
    "    X = []\n",
    "    Y = []\n",
    "    for i in range(N):\n",
    "        x, y = make_timeseries_dataset(data_list[i], target_list[i], timesteps)\n",
    "        X.append(x)\n",
    "        Y.append(y)\n",
    "    X = np.concatenate(X, axis=(1)).reshape(-1, timesteps, 1)\n",
    "    Y = np.concatenate(Y, axis=(1)).reshape(-1, 1)\n",
    "\n",
    "    return X, Y"
   ]
  },
  {
   "cell_type": "markdown",
   "metadata": {
    "tags": []
   },
   "source": [
    "# Model"
   ]
  },
  {
   "cell_type": "code",
   "execution_count": 4,
   "metadata": {},
   "outputs": [],
   "source": [
    "def build_encoder(input_shape, h_dim, z_dim, name=\"encoder\"):\n",
    "    #入力層\n",
    "    inputs = keras.layers.Input(shape=input_shape)\n",
    "    #隠れ層，h_dim個のユニット，ReLU関数\n",
    "    #入力データを非線形変換\n",
    "    x = keras.layers.Dense(h_dim, activation=\"relu\")(inputs)\n",
    "    #別の隠れ層，ネットワークの表現能力を向上\n",
    "    x = keras.layers.Dense(h_dim, activation=\"relu\")(x)\n",
    "    z_mean = keras.layers.Dense(z_dim, name=\"z_mean\")(x)\n",
    "    z_log_var = keras.layers.Dense(z_dim, name=\"z_log_var\")(x)\n",
    "    #潜在空間の平均と対数分散を出力\n",
    "    outputs = [z_mean, z_log_var]\n",
    "    \n",
    "    \n",
    "    return keras.Model(inputs=inputs, outputs=outputs, name=name)\n",
    "\n",
    "#事前モデル分布\n",
    "def build_prior(input_shape, h_dim, z_dim, name=\"prior\"):\n",
    "    inputs = keras.layers.Input(shape=input_shape)\n",
    "    x = keras.layers.Dense(h_dim, activation=\"relu\")(inputs) \n",
    "    prior_mean = keras.layers.Dense(z_dim, name=\"prior_mean\")(x)\n",
    "    prior_log_var = keras.layers.Dense(z_dim, name=\"prior_log_var\")(x)\n",
    "    #潜在空間の事前分布の平均を出力\n",
    "    outputs = [prior_mean, prior_log_var]\n",
    "    \n",
    "    return keras.Model(inputs=inputs, outputs=outputs, name=name)\n",
    "\n",
    "def build_decoder(input_shape, x_dim, name=\"decoder\"):\n",
    "    inputs = keras.layers.Input(shape=input_shape)\n",
    "    x = keras.layers.Dense(x_dim, activation=\"relu\")(inputs)\n",
    "    x = keras.layers.Dense(x_dim, activation=\"relu\")(x)\n",
    "    x = keras.layers.Dense(x_dim)(x)\n",
    "    outputs = x\n",
    "    \n",
    "    return keras.Model(inputs=inputs, outputs=outputs, name=name)\n",
    "\n",
    "class Sampling(keras.layers.Layer):\n",
    "    def __init__(self, name=\"sampling\"):\n",
    "        super().__init__(name=name)\n",
    "    def call(self, inputs):\n",
    "        z_mean, z_log_var = inputs\n",
    "        batch = tf.shape(z_mean)[0]\n",
    "        dim = tf.shape(z_mean)[1]\n",
    "        epsilon = tf.random.normal(shape=(batch, dim))\n",
    "        #潜在変数 = 期待値(u) + 標準偏差(σ) * 乱数\n",
    "        return z_mean + tf.exp(0.5 * z_log_var) * epsilon"
   ]
  },
  {
   "cell_type": "code",
   "execution_count": 5,
   "metadata": {},
   "outputs": [],
   "source": [
    "class VRNNCell(keras.layers.Layer):\n",
    "    def __init__(self, h_dim, z_dim):\n",
    "        super().__init__()\n",
    "        self.h_dim = h_dim\n",
    "        self.z_dim = z_dim\n",
    "        self.state_size = h_dim\n",
    "\n",
    "    def build(self, input_shape):\n",
    "        batch_size, x_dim = input_shape\n",
    "\n",
    "        #phi 特徴抽出\n",
    "        self.phi_x_layer = keras.Sequential([\n",
    "            keras.layers.Input((x_dim)),\n",
    "            keras.layers.Dense(self.h_dim, activation=\"relu\"),\n",
    "            keras.layers.Dense(self.h_dim, activation=\"relu\")\n",
    "        ])\n",
    "        self.phi_z_layer = keras.layers.Dense(self.z_dim, activation=\"relu\")\n",
    "        self.encoder = build_encoder(input_shape=(self.h_dim+self.h_dim), h_dim=self.h_dim, z_dim=self.z_dim)\n",
    "        self.prior_layer = build_prior(input_shape=(self.h_dim), h_dim=self.h_dim, z_dim=self.z_dim)\n",
    "        self.decoder = build_decoder(input_shape=(self.z_dim), x_dim=x_dim)\n",
    "\n",
    "        self.rnn_cell = keras.layers.GRUCell(self.h_dim)\n",
    "\n",
    "        self.sampling_layer = Sampling()\n",
    "\n",
    "    def call(self, inputs, states):\n",
    "        h = states[0]   # B x h_dim\n",
    "\n",
    "        phi_x = self.phi_x_layer(inputs)    # B x h_dim\n",
    "        x = keras.layers.Concatenate(axis=(1))([phi_x, h])  # B x h_dim+h_dim\n",
    "\n",
    "        # encoder\n",
    "        z_mean, z_log_var = self.encoder(x)     # B x z_dim, B x z_dim\n",
    "\n",
    "        # prior\n",
    "        prior_mean, prior_log_var = self.prior_layer(h)     # B x z_dim, B x z_dim\n",
    "\n",
    "        # reparametrization trick\n",
    "        z = self.sampling_layer([z_mean, z_log_var])    # B x z_dim\n",
    "\n",
    "        phi_z = self.phi_z_layer(z)     # B x z_dim\n",
    "\n",
    "        #decoder\n",
    "        y = self.decoder(phi_z)   # B x z_dim\n",
    "\n",
    "        #recurrence\n",
    "        phi = keras.layers.Concatenate(axis=(1))([phi_x, phi_z])\n",
    "        _, new_h = self.rnn_cell(phi, [h])    # B x h_dim\n",
    "\n",
    "        outputs = [y, z_mean, z_log_var, prior_mean, prior_log_var, z, phi_z, h]\n",
    "        new_states = [new_h]    # 1 x B x h_dim\n",
    "        return outputs, new_states"
   ]
  },
  {
   "cell_type": "code",
   "execution_count": 6,
   "metadata": {},
   "outputs": [],
   "source": [
    "class VRNN(keras.Model):\n",
    "    def __init__(self, input_shape, h_dim=100, z_dim=32, return_sequences=False, name=\"vrnn\", *args, **kwargs):\n",
    "        super().__init__(name=name, *args, **kwargs)\n",
    "        self.cell = VRNNCell(h_dim=h_dim, z_dim=z_dim)\n",
    "        self.axis = (1, 2) if return_sequences else (1)\n",
    "\n",
    "        # build model\n",
    "        inputs = keras.layers.Input(input_shape)\n",
    "        x = keras.layers.RNN(self.cell, return_sequences=return_sequences)(inputs)\n",
    "        outputs = x\n",
    "        self.rnn = keras.Model(inputs=inputs, outputs=outputs)\n",
    "\n",
    "    def call(self, inputs, training=False):\n",
    "        return self.rnn(inputs)\n",
    "    \n",
    "    def compile(self, optimizer, loss, *args, **kwargs):\n",
    "        super().compile(*args, **kwargs)\n",
    "\n",
    "        self.optimizer = optimizer\n",
    "        self.loss = loss\n",
    "\n",
    "        # Tracker\n",
    "        self.total_cost_tracker = keras.metrics.Mean(name=\"total_cost\")\n",
    "        self.loss_tracker = keras.metrics.Mean(name=\"loss\")\n",
    "        self.kl_tracker = keras.metrics.Mean(name=\"kl_divergence\")\n",
    "\n",
    "    @property\n",
    "    def metrics(self):\n",
    "        return [\n",
    "            self.total_cost_tracker,\n",
    "            self.loss_tracker,\n",
    "            self.kl_tracker\n",
    "        ]\n",
    "\n",
    "    def train_step(self, data):\n",
    "        x, y_true = data\n",
    "        with tf.GradientTape() as tape:\n",
    "            outputs = self.rnn(x)\n",
    "            y_pred, z_mean, z_log_var, prior_mean, prior_log_var, z, phi_z, h = outputs\n",
    "\n",
    "            # loss\n",
    "            loss = tf.reduce_mean(self.loss(y_true, y_pred))\n",
    "\n",
    "            # KL-divergence\n",
    "            term1 = prior_log_var - z_log_var\n",
    "            term2 = (tf.exp(z_log_var) + tf.square(z_mean - prior_mean)) / (tf.exp(prior_log_var) + 1e-12)\n",
    "            term3 = -1\n",
    "            kl = tf.reduce_mean(tf.reduce_sum(0.5 * (term1 + term2 + term3), axis=self.axis))\n",
    "\n",
    "            # term1 = (prior_log_var - z_log_var)\n",
    "            # term2 = (tf.exp(z_log_var) + tf.square(z_mean - prior_mean)) / (2 * tf.exp(prior_log_var) + 1e-12)\n",
    "            # term3 = -0.5\n",
    "            # kl = tf.reduce_mean(tf.reduce_sum((term1 + term2 + term3), axis=self.axis))\n",
    "\n",
    "            total_cost = loss + kl\n",
    "\n",
    "        grads = tape.gradient(total_cost, self.trainable_weights)\n",
    "        self.optimizer.apply_gradients(zip(grads, self.trainable_weights))\n",
    "\n",
    "        # Update\n",
    "        self.total_cost_tracker.update_state(total_cost)\n",
    "        self.loss_tracker.update_state(loss)\n",
    "        self.kl_tracker.update_state(kl)\n",
    "        \n",
    "        return {m.name: m.result() for m in self.metrics}"
   ]
  },
  {
   "cell_type": "markdown",
   "metadata": {
    "tags": []
   },
   "source": [
    "#  データの取得"
   ]
  },
  {
   "cell_type": "code",
   "execution_count": 7,
   "metadata": {},
   "outputs": [],
   "source": [
    "\n",
    "Q_876 = pd.read_csv('paQuasAr3_dia10-8_-7_-6.csv', encoding='utf-8')\n",
    "G_876 = pd.read_csv('GCaMP_dia10-8_-7_-6.csv', encoding='utf-8')\n",
    "\n",
    "# NumPy 配列に変換\n",
    "Q_876_numpy = Q_876.to_numpy()\n",
    "G_876_numpy = G_876.to_numpy()\n",
    "\n",
    "# 配列の転置（N x Tにする）(27, 1199)\n",
    "x_Q876 = Q_876.to_numpy().transpose((1, 0))\n",
    "x_G876 = G_876.to_numpy().transpose((1, 0))\n",
    "\n",
    "\n",
    "x_Q876x200 = (x_Q876-1) * 2000\n",
    "x_G876x200 = (x_G876-1) * 400"
   ]
  },
  {
   "cell_type": "code",
   "execution_count": null,
   "metadata": {},
   "outputs": [],
   "source": [
    "t = np.linspace(0, 1, 1199)\n",
    "for i, x_ in enumerate(x_G876x200):\n",
    "    plt.plot(t, x_, linestyle=\"-\")\n",
    "    plt.title(\"ID:{}\".format(i+1))\n",
    "    plt.legend()\n",
    "    plt.grid()\n",
    "\n",
    "    plt.xticks(fontsize=14)\n",
    "    plt.yticks(fontsize=14)\n",
    "\n",
    "    plt.xlabel('Frame', fontsize=18)\n",
    "    plt.ylabel('Responce', fontsize=18)\n",
    "    #plt.savefig(f\"\")\n",
    "    plt.show()"
   ]
  },
  {
   "attachments": {},
   "cell_type": "markdown",
   "metadata": {},
   "source": [
    "# データ確認，設定"
   ]
  },
  {
   "cell_type": "code",
   "execution_count": null,
   "metadata": {},
   "outputs": [],
   "source": [
    "cmap = plt.get_cmap(\"tab20\")\n",
    "\n",
    "t = np.linspace(0, 1199, 1199)\n",
    "# Check\n",
    "plt.figure()\n",
    "for i, x_ in enumerate(x_G876x200[:]):\n",
    "    plt.plot(t, x_, linestyle=\"-\", color=cmap(i),label = \"G\")\n",
    "    #plt.plot(t, y_, linestyle=\"--\", color=cmap(i), label = \"Q\")\n",
    "    plt.savefig(f\"\")\n",
    "\n",
    "\n",
    "plt.grid()\n",
    "plt.show()"
   ]
  },
  {
   "cell_type": "code",
   "execution_count": null,
   "metadata": {},
   "outputs": [],
   "source": [
    "cmap = plt.get_cmap(\"tab20\")\n",
    "f = 300\n",
    "total_frames = 1199  # 実際の総フレーム数\n",
    "\n",
    "for start in range(0, total_frames, f):\n",
    "    end = min(start + f, total_frames)  # 範囲を総フレーム数で制限\n",
    "    t = np.linspace(0, 1, end - start)  # 現在の区間に対応する時間軸を生成\n",
    "    plt.figure()\n",
    "    for i, x_ in enumerate(x_G876x200[:5, start:end]):  # 5つのサンプルを描画\n",
    "        plt.plot(t, x_, linestyle=\"-\", color=cmap(i), label=f\"G{i+1}\")\n",
    "    plt.legend()\n",
    "    plt.grid()\n",
    "    plt.ylim(-20, 400)  # y軸の範囲を指定\n",
    "    plt.title(f\"Frames {start}:{end}\")\n",
    "    plt.savefig(f\"\")\n",
    "    plt.show()\n"
   ]
  },
  {
   "cell_type": "code",
   "execution_count": null,
   "metadata": {},
   "outputs": [],
   "source": [
    "import matplotlib.pyplot as plt\n",
    "import numpy as np\n",
    "\n",
    "cmap = plt.get_cmap(\"tab20\")\n",
    "f = 50\n",
    "total_frames = 1199  # 実際の総フレーム数\n",
    "num_intervals = (total_frames + f - 1) // f  # 必要なサブプロットの数を計算\n",
    "\n",
    "# グラフ全体の大きさを設定\n",
    "plt.figure(figsize=(15, 5 * num_intervals))\n",
    "\n",
    "for idx, start in enumerate(range(0, total_frames, f)):\n",
    "    end = min(start + f, total_frames)  # 範囲を制限\n",
    "    t = np.linspace(0, 1, end - start)  # 現在の区間の時間軸を生成\n",
    "    \n",
    "    # サブプロットを作成\n",
    "    plt.subplot(num_intervals, 1, idx + 1)  # 行ごとに配置\n",
    "    for i, x_ in enumerate(x_G876x200[:20, start:end]):  # 5つのサンプルを描画\n",
    "        plt.plot(t, x_, linestyle=\"-\", color=cmap(i), label=f\"G{i+1}\")\n",
    "    \n",
    "    plt.grid()\n",
    "    plt.ylim(-20, 700)  # y軸の範囲を指定\n",
    "    plt.title(f\"Frames {start}:{end}\")\n",
    "    plt.xlabel(\"時間 (正規化)\")  # x軸ラベル\n",
    "    plt.ylabel(\"応答値\")  # y軸ラベル\n",
    "\n",
    "# 全体の間隔を調整\n",
    "plt.tight_layout()\n",
    "#plt.savefig(f\"\")\n",
    "plt.show()\n"
   ]
  },
  {
   "cell_type": "code",
   "execution_count": 8,
   "metadata": {},
   "outputs": [],
   "source": [
    "timesteps = 100\n",
    "\n",
    "train_Gx = x_G876x200\n",
    "\n",
    "\n",
    "\n",
    "\n",
    "x_ = train_Gx[:10, :]\n",
    "y_ = train_Gx[:10, :]\n",
    "\n",
    "train_x, train_y = make_dataset_for_stateful(x_, y_, timesteps)"
   ]
  },
  {
   "cell_type": "markdown",
   "metadata": {
    "tags": []
   },
   "source": [
    "# モデルの取得"
   ]
  },
  {
   "cell_type": "code",
   "execution_count": 22,
   "metadata": {},
   "outputs": [],
   "source": [
    "#ハイパラ\n",
    "x_dim = 1\n",
    "h_dim = 32\n",
    "z_dim = 4\n",
    "learning_rate = 0.01\n",
    "epochs=30\n",
    "\n",
    "model = VRNN(input_shape=(timesteps, x_dim), h_dim=h_dim, z_dim=z_dim)"
   ]
  },
  {
   "cell_type": "markdown",
   "metadata": {
    "tags": []
   },
   "source": [
    "# 学習\n"
   ]
  },
  {
   "cell_type": "code",
   "execution_count": 23,
   "metadata": {},
   "outputs": [],
   "source": [
    "loss = keras.losses.MeanSquaredError()\n",
    "optimizer = keras.optimizers.Adam(learning_rate=learning_rate)\n",
    "\n",
    "model.compile(optimizer=optimizer, loss=loss)\n",
    "\n",
    "#%load_ext tensorboard\n",
    "# TensorBoardコールバックの作成\n",
    "#tb_cb1 = tf.keras.callbacks.TensorBoard(\n",
    "#histogram_freq=1,\n",
    "#write_images=True\n",
    "#)\n",
    "#1, 5, 9, 11, 15, 16, 18, 20, 22, 25, 26\n"
   ]
  },
  {
   "cell_type": "code",
   "execution_count": null,
   "metadata": {},
   "outputs": [],
   "source": [
    "hist = model.fit(\n",
    "    train_x, train_y,\n",
    "    batch_size=10,\n",
    "    epochs=epochs,\n",
    "    #callbacks=[tb_cb1]\n",
    ")"
   ]
  },
  {
   "cell_type": "markdown",
   "metadata": {
    "tags": []
   },
   "source": [
    "# 推論"
   ]
  },
  {
   "cell_type": "code",
   "execution_count": 27,
   "metadata": {},
   "outputs": [],
   "source": [
    "id = 27\n",
    "pre_id = id - 1\n",
    "\n",
    "# old\n",
    "# x_2450_ = x_2450[pre_id].reshape(1, -1)\n",
    "\n",
    "# test_x, _ = make_dataset_for_stateful(x_2450_, x_2450_, timesteps)\n",
    "\n",
    "x_876_ = x_G876x200[pre_id].reshape(1, -1)\n",
    "\n",
    "\n",
    "test_x, _ = make_dataset_for_stateful(x_876_, x_876_, timesteps)\n",
    "\n",
    "\n",
    "outputs = model(test_x)\n",
    "\n",
    "pred_y = outputs[0]\n",
    "\n",
    "\n"
   ]
  },
  {
   "cell_type": "markdown",
   "metadata": {
    "tags": []
   },
   "source": [
    "# 潜在変数と隠れ状態の可視化"
   ]
  },
  {
   "cell_type": "code",
   "execution_count": 28,
   "metadata": {},
   "outputs": [],
   "source": [
    "z = outputs[5]\n",
    "phi_z = outputs[6]\n",
    "h = outputs[7]"
   ]
  },
  {
   "cell_type": "markdown",
   "metadata": {},
   "source": [
    "# tsne"
   ]
  },
  {
   "cell_type": "code",
   "execution_count": null,
   "metadata": {},
   "outputs": [],
   "source": [
    "prexity = 35\n",
    "iter = 1000\n",
    "learning = 200\n",
    "pre = \"35\"\n",
    "ite = \"1000\"\n",
    "learn = \"200\"\n",
    "tsne = TSNE(n_components=2, perplexity=prexity, learning_rate=learning, n_iter = iter)\n",
    "#tsne = TSNE(n_components=2)\n",
    "time = np.arange(0, 1189, 1)\n",
    "time1 = np.arange(0, 2440, 1)\n",
    "time2 = np.arange(0, 2440, 1)\n",
    "z_ = z[50:500]\n",
    "proj = tsne.fit_transform(z)\n",
    "tg = \"z\"\n",
    "\n",
    "plt.title(\"No.{:>2d}, tsne, z_dim = {:>2d}\".format(id, z_dim))\n",
    "scatter = plt.scatter(proj[:, 0], proj[:, 1], c=pred_y, cmap=\"rainbow\", alpha=0.9, vmin=min(pred_y), vmax=max(pred_y))\n",
    "# scatter = plt.scatter(proj[:, 0], proj[:, 1], c=time, cmap=\"rainbow\", alpha=0.9, vmin=min(time), vmax=max(time))\n",
    "\n",
    "\n",
    "plt.xlabel(\"潜在変数　1次元目\")\n",
    "plt.ylabel(\"潜在変数　2次元目\")\n",
    "colorbar = plt.colorbar(scatter)\n",
    "\n",
    "plt.xlim(-80, 100)  # x軸の範囲設定\n",
    "# plt.xticks(np.arange(-20, 20, 5))\n",
    "# plt.yticks(np.arange(-20, 20, 5))\n",
    "plt.ylim(-80, 80)  # y軸の範囲設定\n",
    "plt.grid()\n"
   ]
  }
 ],
 "metadata": {
  "kernelspec": {
   "display_name": "Python 3",
   "language": "python",
   "name": "python3"
  },
  "language_info": {
   "codemirror_mode": {
    "name": "ipython",
    "version": 3
   },
   "file_extension": ".py",
   "mimetype": "text/x-python",
   "name": "python",
   "nbconvert_exporter": "python",
   "pygments_lexer": "ipython3",
   "version": "3.9.6"
  }
 },
 "nbformat": 4,
 "nbformat_minor": 4
}
